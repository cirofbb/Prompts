{
 "cells": [
  {
   "cell_type": "code",
   "execution_count": 6,
   "metadata": {},
   "outputs": [],
   "source": [
    "import gensim.downloader as api\n",
    "from scipy.spatial.distance import cosine\n",
    "from gensim.utils import simple_preprocess\n",
    "import numpy as np"
   ]
  },
  {
   "cell_type": "code",
   "execution_count": 4,
   "metadata": {},
   "outputs": [
    {
     "name": "stdout",
     "output_type": "stream",
     "text": [
      "Similaridade entre s0 e s1: 0.9659\n",
      "Similaridade entre s0 e s2: 0.8659\n",
      "Similaridade entre s0 e s3: 0.5878\n",
      "Similaridade entre s1 e s2: 0.8596\n",
      "Similaridade entre s1 e s3: 0.5718\n",
      "Similaridade entre s2 e s3: 0.7226\n"
     ]
    }
   ],
   "source": [
    "model = api.load(\"glove-wiki-gigaword-50\")\n",
    "\n",
    "def sentence_vector(sentence, model):\n",
    "    words = [word for word in sentence.lower().split() if word in model]\n",
    "    if len(words) == 0:\n",
    "        return np.zeros(model.vector_size)\n",
    "    return np.mean([model[word] for word in words], axis=0)\n",
    "\n",
    "# Frases\n",
    "s0 = \"Mark zuckerberg owns the facebook company\"\n",
    "s1 = \"Facebook company ceo is mark zuckerberg\"\n",
    "s2 = \"Microsoft is owned by Bill gates\"\n",
    "s3 = \"How to learn japanese\"\n",
    "\n",
    "# Calculando os vetores médios para cada frase\n",
    "vec_s0 = sentence_vector(s0, model)\n",
    "vec_s1 = sentence_vector(s1, model)\n",
    "vec_s2 = sentence_vector(s2, model)\n",
    "vec_s3 = sentence_vector(s3, model)\n",
    "\n",
    "# Calculando a similaridade usando a distância cosseno\n",
    "similar_s0_s1 = 1 - cosine(vec_s0, vec_s1)\n",
    "similar_s0_s2 = 1 - cosine(vec_s0, vec_s2)\n",
    "similar_s0_s3 = 1 - cosine(vec_s0, vec_s3)\n",
    "similar_s1_s2 = 1 - cosine(vec_s1, vec_s2)\n",
    "similar_s1_s3 = 1 - cosine(vec_s1, vec_s3)\n",
    "similar_s2_s3 = 1 - cosine(vec_s2, vec_s3)\n",
    "\n",
    "print(f\"Similaridade entre s0 e s1: {similar_s0_s1:.4f}\")\n",
    "print(f\"Similaridade entre s0 e s2: {similar_s0_s2:.4f}\")\n",
    "print(f\"Similaridade entre s0 e s3: {similar_s0_s3:.4f}\")\n",
    "print(f\"Similaridade entre s1 e s2: {similar_s1_s2:.4f}\")\n",
    "print(f\"Similaridade entre s1 e s3: {similar_s1_s3:.4f}\")\n",
    "print(f\"Similaridade entre s2 e s3: {similar_s2_s3:.4f}\")"
   ]
  },
  {
   "cell_type": "code",
   "execution_count": 7,
   "metadata": {},
   "outputs": [
    {
     "name": "stdout",
     "output_type": "stream",
     "text": [
      "Frase: Apple is known for its iPhones and Mac computers. | Similaridade: 0.5630\n",
      "Frase: Microsoft develops software products like Windows and Office. | Similaridade: 0.5534\n",
      "Frase: Amazon is a giant in e-commerce and cloud computing. | Similaridade: 0.4552\n",
      "Frase: Steve Jobs was the co-founder of Apple. | Similaridade: 0.4524\n",
      "Frase: Google is a major player in the tech industry. | Similaridade: 0.4374\n"
     ]
    }
   ],
   "source": [
    "# Banco de dados\n",
    "frases = [\n",
    "\n",
    "\"Mark Zuckerberg is the founder of Facebook.\",\n",
    "\n",
    "\"Facebook is one of the largest social media platforms.\",\n",
    "\n",
    "\"Bill Gates co-founded Microsoft.\",\n",
    "\n",
    "\"Microsoft develops software products like Windows and Office.\",\n",
    "\n",
    "\"Steve Jobs was the co-founder of Apple.\",\n",
    "\n",
    "\"Apple is known for its iPhones and Mac computers.\",\n",
    "\n",
    "\"Elon Musk is the CEO of SpaceX and Tesla.\",\n",
    "\n",
    "\"Tesla is a leader in electric vehicles.\",\n",
    "\n",
    "\"Google is a major player in the tech industry.\",\n",
    "\n",
    "\"Amazon is a giant in e-commerce and cloud computing.\"\n",
    "\n",
    "]\n",
    "\n",
    "# Cálculo da similaridade média entre uma palavra e uma frase\n",
    "def frase_similaridade(frase, palavra):\n",
    "    palavras_frase = simple_preprocess(frase)\n",
    "    similars = []\n",
    "    for w in palavras_frase:\n",
    "        if w in model:\n",
    "            similars.append(1 - cosine(model[palavra], model[w]))\n",
    "    return np.mean(similars) if similars else 0\n",
    "\n",
    "# Obtendo as 5 frases mais similares\n",
    "def buscar_frases(word):\n",
    "    similaridades = [(frase, frase_similaridade(frase, word)) for frase in frases]\n",
    "    similaridades = sorted(similaridades, key=lambda x: x[1], reverse=True)\n",
    "    return similaridades[:5]\n",
    "\n",
    "# Buscando as frases mais semelhantes\n",
    "resultados = buscar_frases(\"apple\")\n",
    "for frase, similaridade in resultados:\n",
    "    print(f\"Frase: {frase} | Similaridade: {similaridade:.4f}\")"
   ]
  },
  {
   "cell_type": "code",
   "execution_count": null,
   "metadata": {},
   "outputs": [],
   "source": []
  }
 ],
 "metadata": {
  "kernelspec": {
   "display_name": "Python 3",
   "language": "python",
   "name": "python3"
  },
  "language_info": {
   "codemirror_mode": {
    "name": "ipython",
    "version": 3
   },
   "file_extension": ".py",
   "mimetype": "text/x-python",
   "name": "python",
   "nbconvert_exporter": "python",
   "pygments_lexer": "ipython3",
   "version": "3.11.9"
  }
 },
 "nbformat": 4,
 "nbformat_minor": 2
}
